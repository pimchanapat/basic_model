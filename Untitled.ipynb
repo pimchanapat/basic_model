{
 "cells": [
  {
   "cell_type": "code",
   "execution_count": 1,
   "id": "6b55e1e0",
   "metadata": {},
   "outputs": [],
   "source": [
    "import requests\n",
    "\n",
    "from requests.auth import HTTPBasicAuth"
   ]
  },
  {
   "cell_type": "code",
   "execution_count": 2,
   "id": "0a03f6f9",
   "metadata": {},
   "outputs": [],
   "source": [
    "URL = 'http://localhost:7001/getclass'\n",
    "\n",
    "data = {\n",
    "  'x': -0.210738, \n",
    "  'y': -13.1719\n",
    "}\n",
    "\n",
    "response = requests.post(URL, json=data, auth=HTTPBasicAuth('ChanapatAPI', '@ChanapatAPI'))"
   ]
  },
  {
   "cell_type": "code",
   "execution_count": 3,
   "id": "d72d13c5",
   "metadata": {},
   "outputs": [
    {
     "name": "stdout",
     "output_type": "stream",
     "text": [
      "{'class': 'class_A', 'confidence': 0.9999616146087646}\n"
     ]
    }
   ],
   "source": [
    "if response.status_code == 200:\n",
    "    res = response.json()['results']\n",
    "    print(res)"
   ]
  },
  {
   "cell_type": "code",
   "execution_count": null,
   "id": "ff1ebf23",
   "metadata": {},
   "outputs": [],
   "source": []
  }
 ],
 "metadata": {
  "kernelspec": {
   "display_name": "Python 3 (ipykernel)",
   "language": "python",
   "name": "python3"
  },
  "language_info": {
   "codemirror_mode": {
    "name": "ipython",
    "version": 3
   },
   "file_extension": ".py",
   "mimetype": "text/x-python",
   "name": "python",
   "nbconvert_exporter": "python",
   "pygments_lexer": "ipython3",
   "version": "3.8.12"
  }
 },
 "nbformat": 4,
 "nbformat_minor": 5
}
